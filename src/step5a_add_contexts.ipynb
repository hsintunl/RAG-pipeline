{
 "cells": [
  {
   "cell_type": "code",
   "execution_count": 1,
   "id": "50074d56-1b9e-4b13-8bd1-7a7df66e487a",
   "metadata": {},
   "outputs": [
    {
     "name": "stderr",
     "output_type": "stream",
     "text": [
      "/opt/anaconda3/lib/python3.12/site-packages/google/protobuf/runtime_version.py:98: UserWarning: Protobuf gencode version 5.27.2 is exactly one major version older than the runtime version 6.30.1 at schema.proto. Please update the gencode to avoid compatibility violations in the next runtime release.\n",
      "  warnings.warn(\n",
      "/opt/anaconda3/lib/python3.12/site-packages/google/protobuf/runtime_version.py:98: UserWarning: Protobuf gencode version 5.27.2 is exactly one major version older than the runtime version 6.30.1 at common.proto. Please update the gencode to avoid compatibility violations in the next runtime release.\n",
      "  warnings.warn(\n",
      "/opt/anaconda3/lib/python3.12/site-packages/google/protobuf/runtime_version.py:98: UserWarning: Protobuf gencode version 5.27.2 is exactly one major version older than the runtime version 6.30.1 at milvus.proto. Please update the gencode to avoid compatibility violations in the next runtime release.\n",
      "  warnings.warn(\n",
      "/opt/anaconda3/lib/python3.12/site-packages/google/protobuf/runtime_version.py:98: UserWarning: Protobuf gencode version 5.27.2 is exactly one major version older than the runtime version 6.30.1 at rg.proto. Please update the gencode to avoid compatibility violations in the next runtime release.\n",
      "  warnings.warn(\n",
      "/opt/anaconda3/lib/python3.12/site-packages/google/protobuf/runtime_version.py:98: UserWarning: Protobuf gencode version 5.27.2 is exactly one major version older than the runtime version 6.30.1 at feder.proto. Please update the gencode to avoid compatibility violations in the next runtime release.\n",
      "  warnings.warn(\n",
      "/opt/anaconda3/lib/python3.12/site-packages/google/protobuf/runtime_version.py:98: UserWarning: Protobuf gencode version 5.27.2 is exactly one major version older than the runtime version 6.30.1 at msg.proto. Please update the gencode to avoid compatibility violations in the next runtime release.\n",
      "  warnings.warn(\n"
     ]
    }
   ],
   "source": [
    "import os\n",
    "import pandas as pd\n",
    "from tqdm import tqdm\n",
    "from sentence_transformers import SentenceTransformer\n",
    "from pymilvus import MilvusClient"
   ]
  },
  {
   "cell_type": "code",
   "execution_count": 2,
   "id": "780a876e-b153-4998-a57d-cce26ab724be",
   "metadata": {},
   "outputs": [
    {
     "name": "stdout",
     "output_type": "stream",
     "text": [
      "Reading file: ../data/evaluation/all_experiment_generations.csv\n"
     ]
    }
   ],
   "source": [
    "# 1. Path settings\n",
    "INPUT_PATH  = \"../data/evaluation/all_experiment_generations.csv\"\n",
    "OUTPUT_PATH = \"../data/evaluation/all_experiment_generations_for_ragas.csv\"\n",
    "DB_PATH     = \"rag_wikipedia_mini.db\" \n",
    "\n",
    "if not os.path.exists(INPUT_PATH):\n",
    "    raise FileNotFoundError(f\"Input file not found: {INPUT_PATH}\")\n",
    "\n",
    "print(\"Reading file:\", INPUT_PATH)\n"
   ]
  },
  {
   "cell_type": "code",
   "execution_count": 3,
   "id": "c703743c-838f-4ea9-a71a-ac78f0ed70e6",
   "metadata": {},
   "outputs": [
    {
     "name": "stdout",
     "output_type": "stream",
     "text": [
      "Original columns: ['question', 'answer', 'q_len', 'q_bin', 'gen_naive_k1_all-MiniLM-L6-v2', 'gen_cot_k1_all-MiniLM-L6-v2', 'gen_persona_k1_all-MiniLM-L6-v2', 'gen_naive_k3_all-MiniLM-L6-v2', 'gen_cot_k3_all-MiniLM-L6-v2', 'gen_persona_k3_all-MiniLM-L6-v2'] ...\n",
      "Total rows: 120\n"
     ]
    }
   ],
   "source": [
    "# 2. Load CSV\n",
    "df = pd.read_csv(INPUT_PATH)\n",
    "\n",
    "print(\"Original columns:\", df.columns.tolist()[:10], \"...\")\n",
    "print(\"Total rows:\", len(df))"
   ]
  },
  {
   "cell_type": "code",
   "execution_count": 4,
   "id": "ed27c935-96e8-418f-aece-b12ad6e4f4a7",
   "metadata": {},
   "outputs": [
    {
     "name": "stdout",
     "output_type": "stream",
     "text": [
      "Embedding model: all-mpnet-base-v2\n",
      "Milvus DB: /Users/connie/Desktop/Fall 2025/LLM/Assignment2/src/rag_wikipedia_mini.db\n"
     ]
    }
   ],
   "source": [
    "# 3. Initialize Milvus + Embedding\n",
    "embedding_model = SentenceTransformer(\"all-mpnet-base-v2\")\n",
    "client = MilvusClient(DB_PATH)\n",
    "\n",
    "print(\"Embedding model:\", \"all-mpnet-base-v2\")\n",
    "print(\"Milvus DB:\", os.path.abspath(DB_PATH))"
   ]
  },
  {
   "cell_type": "code",
   "execution_count": 5,
   "id": "07ea4dbe-78e3-47b2-8346-df130bfd9fe1",
   "metadata": {},
   "outputs": [
    {
     "name": "stderr",
     "output_type": "stream",
     "text": [
      "WARNING: All log messages before absl::InitializeLog() is called are written to STDERR\n",
      "I0000 00:00:1759174708.599419 11182255 fork_posix.cc:71] Other threads are currently calling into gRPC, skipping fork() handlers\n",
      "Retrieving k=5 contexts: 100%|████████████████| 120/120 [00:07<00:00, 15.89it/s]"
     ]
    },
    {
     "name": "stdout",
     "output_type": "stream",
     "text": [
      "Retrieval finished. Total contexts generated: 120\n"
     ]
    },
    {
     "name": "stderr",
     "output_type": "stream",
     "text": [
      "\n"
     ]
    }
   ],
   "source": [
    "# 4. Retrieval: Persona + mpnet + k=5\n",
    "contexts_best = []\n",
    "for q in tqdm(df[\"question\"].astype(str).tolist(), desc=\"Retrieving k=5 contexts\"):\n",
    "    q_emb = embedding_model.encode(q).tolist()\n",
    "    results = client.search(\n",
    "        collection_name=\"rag_mini\",\n",
    "        data=[q_emb],\n",
    "        anns_field=\"embedding\",\n",
    "        search_params={\"metric_type\": \"COSINE\", \"params\": {\"nprobe\": 10}}, \n",
    "        limit=5,\n",
    "        output_fields=[\"passage\"]\n",
    "    )\n",
    "    passages = [hit[\"entity\"][\"passage\"] for hit in results[0]]\n",
    "    ctx = \"\\n---\\n\".join(passages)\n",
    "    contexts_best.append(ctx)\n",
    "\n",
    "print(\"Retrieval finished. Total contexts generated:\", len(contexts_best))"
   ]
  },
  {
   "cell_type": "code",
   "execution_count": 6,
   "id": "7bfa16b5-5608-4e1f-b488-bdd75f51e781",
   "metadata": {},
   "outputs": [],
   "source": [
    "# 5. Add new column to DataFrame\n",
    "col_name = \"contexts_persona_k5_all-mpnet-base-v2\"\n",
    "df[col_name] = contexts_best"
   ]
  },
  {
   "cell_type": "code",
   "execution_count": 13,
   "id": "db837ad0-038c-4331-92a3-c829bc246495",
   "metadata": {},
   "outputs": [
    {
     "name": "stdout",
     "output_type": "stream",
     "text": [
      "\n",
      "File saved to: /Users/connie/Desktop/Fall 2025/LLM/Assignment2/data/evaluation/all_experiment_generations_for_ragas.csv\n",
      "New column added: contexts_persona_k5_all-mpnet-base-v2\n"
     ]
    }
   ],
   "source": [
    "# 6. Save file\n",
    "df.to_csv(OUTPUT_PATH, index=False)\n",
    "print(f\"\\nFile saved to: {os.path.abspath(OUTPUT_PATH)}\")\n",
    "print(\"New column added:\", col_name)"
   ]
  },
  {
   "cell_type": "code",
   "execution_count": null,
   "id": "0ad42f67-7c2a-4a74-973c-7eea62b479b6",
   "metadata": {},
   "outputs": [],
   "source": []
  }
 ],
 "metadata": {
  "kernelspec": {
   "display_name": "Python [conda env:base] *",
   "language": "python",
   "name": "conda-base-py"
  },
  "language_info": {
   "codemirror_mode": {
    "name": "ipython",
    "version": 3
   },
   "file_extension": ".py",
   "mimetype": "text/x-python",
   "name": "python",
   "nbconvert_exporter": "python",
   "pygments_lexer": "ipython3",
   "version": "3.12.2"
  }
 },
 "nbformat": 4,
 "nbformat_minor": 5
}
