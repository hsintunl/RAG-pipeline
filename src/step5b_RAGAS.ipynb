{
 "cells": [
  {
   "cell_type": "code",
   "execution_count": 1,
   "id": "21a80639-a7ab-4b84-aa51-052511201109",
   "metadata": {},
   "outputs": [],
   "source": [
    "import os\n",
    "import pandas as pd\n",
    "from datasets import Dataset\n",
    "import json\n",
    "from dotenv import load_dotenv\n",
    "\n",
    "from ragas import evaluate\n",
    "from ragas.metrics import faithfulness, answer_relevancy, context_precision, context_recall"
   ]
  },
  {
   "cell_type": "code",
   "execution_count": 2,
   "id": "af100561-2d20-4224-a925-97daaa3c3cff",
   "metadata": {},
   "outputs": [
    {
     "data": {
      "text/plain": [
       "True"
      ]
     },
     "execution_count": 2,
     "metadata": {},
     "output_type": "execute_result"
    }
   ],
   "source": [
    "# 1. Load API key from .env\n",
    "load_dotenv()"
   ]
  },
  {
   "cell_type": "code",
   "execution_count": 3,
   "id": "e9b617ea-7bd6-481a-9059-12932a16ee79",
   "metadata": {},
   "outputs": [],
   "source": [
    "# 2. Path settings\n",
    "BASELINE_PATH  = \"../data/evaluation/all_experiment_generations_for_ragas.csv\"\n",
    "ENHANCED_PATH  = \"../data/evaluation/enhanced_experiment_generations.csv\"\n",
    "RESULTS_DIR    = \"../results\"\n",
    "os.makedirs(RESULTS_DIR, exist_ok=True)"
   ]
  },
  {
   "cell_type": "code",
   "execution_count": 4,
   "id": "52c463f3-acee-45d6-a3cc-b624de97ba81",
   "metadata": {},
   "outputs": [
    {
     "name": "stdout",
     "output_type": "stream",
     "text": [
      "Baseline columns: ['question', 'answer', 'q_len', 'q_bin', 'gen_naive_k1_all-MiniLM-L6-v2', 'gen_cot_k1_all-MiniLM-L6-v2', 'gen_persona_k1_all-MiniLM-L6-v2', 'gen_naive_k3_all-MiniLM-L6-v2', 'gen_cot_k3_all-MiniLM-L6-v2', 'gen_persona_k3_all-MiniLM-L6-v2'] ...\n",
      "Enhanced columns: ['question', 'answer', 'rewritten_query', 'gen_enhanced_k5_persona_mpnet', 'ctx_count_used', 'contexts'] ...\n"
     ]
    }
   ],
   "source": [
    "baseline_df  = pd.read_csv(BASELINE_PATH)\n",
    "enhanced_df  = pd.read_csv(ENHANCED_PATH)\n",
    "\n",
    "print(\"Baseline columns:\", baseline_df.columns[:10].tolist(), \"...\")\n",
    "print(\"Enhanced columns:\", enhanced_df.columns[:10].tolist(), \"...\")"
   ]
  },
  {
   "cell_type": "code",
   "execution_count": 5,
   "id": "aa1ce612-8c56-4d8e-a73c-e4778bec9a47",
   "metadata": {},
   "outputs": [],
   "source": [
    "def prepare_ragas_dataset(df, gen_col, ctx_col):\n",
    "    \"\"\"Convert CSV DataFrame to RAGAS-compatible Dataset\"\"\"\n",
    "    data = {\n",
    "        \"question\": df[\"question\"].astype(str).tolist(),\n",
    "        \"answer\": df[gen_col].astype(str).tolist(),\n",
    "        \"retrieved_contexts\": [\n",
    "            ctx.split(\"\\n---\\n\") if isinstance(ctx, str) and len(ctx.strip()) > 0 else []\n",
    "            for ctx in df[ctx_col].fillna(\"\")\n",
    "        ],\n",
    "        \"reference\": df[\"answer\"].astype(str).tolist()\n",
    "    }\n",
    "    return Dataset.from_dict(data)"
   ]
  },
  {
   "cell_type": "code",
   "execution_count": 6,
   "id": "b33959d9-447b-47d7-a5a7-8b598d2bdada",
   "metadata": {},
   "outputs": [],
   "source": [
    "SYSTEMS = {\n",
    "    \"naive\": {\n",
    "        \"df\": baseline_df,\n",
    "        \"gen_col\": \"gen_naive_k1_all-MiniLM-L6-v2\",\n",
    "        \"ctx_col\": \"contexts\"   # original baseline contexts (k=1)\n",
    "    },\n",
    "    \"best_baseline\": {\n",
    "        \"df\": baseline_df,\n",
    "        \"gen_col\": \"gen_persona_k5_all-mpnet-base-v2\",\n",
    "        \"ctx_col\": \"contexts_persona_k5_all-mpnet-base-v2\"\n",
    "    },\n",
    "    \"enhanced\": {\n",
    "        \"df\": enhanced_df,\n",
    "        \"gen_col\": \"gen_enhanced_k5_persona_mpnet\",\n",
    "        \"ctx_col\": \"contexts\"   \n",
    "    }\n",
    "}"
   ]
  },
  {
   "cell_type": "code",
   "execution_count": 7,
   "id": "2ce436b7-5c03-4e6f-87d7-28b1b9002701",
   "metadata": {},
   "outputs": [
    {
     "name": "stdout",
     "output_type": "stream",
     "text": [
      "\n",
      "Running RAGAS on naive pipeline...\n",
      "   naive → processed 10/120 rows\n",
      "   naive → processed 20/120 rows\n",
      "   naive → processed 30/120 rows\n",
      "   naive → processed 40/120 rows\n",
      "   naive → processed 50/120 rows\n",
      "   naive → processed 60/120 rows\n",
      "   naive → processed 70/120 rows\n",
      "   naive → processed 80/120 rows\n",
      "   naive → processed 90/120 rows\n",
      "   naive → processed 100/120 rows\n",
      "   naive → processed 110/120 rows\n",
      "   naive → processed 120/120 rows\n",
      "Finished naive pipeline | Averages: {'faithfulness': 0.6976388888888889, 'answer_relevancy': 0.7473360854279245, 'context_precision': 0.7083333332625, 'context_recall': 0.5833333333333334}\n",
      "\n",
      "Running RAGAS on best_baseline pipeline...\n",
      "   best_baseline → processed 10/120 rows\n",
      "   best_baseline → processed 20/120 rows\n",
      "   best_baseline → processed 30/120 rows\n",
      "   best_baseline → processed 40/120 rows\n",
      "   best_baseline → processed 50/120 rows\n",
      "   best_baseline → processed 60/120 rows\n",
      "   best_baseline → processed 70/120 rows\n",
      "   best_baseline → processed 80/120 rows\n",
      "   best_baseline → processed 90/120 rows\n",
      "   best_baseline → processed 100/120 rows\n",
      "   best_baseline → processed 110/120 rows\n",
      "   best_baseline → processed 120/120 rows\n",
      "Finished best_baseline pipeline | Averages: {'faithfulness': 0.81875, 'answer_relevancy': 0.7305946047978084, 'context_precision': 0.7300347221667872, 'context_recall': 0.7666666666666667}\n",
      "\n",
      "Running RAGAS on enhanced pipeline...\n",
      "   enhanced → processed 10/120 rows\n",
      "   enhanced → processed 20/120 rows\n",
      "   enhanced → processed 30/120 rows\n",
      "   enhanced → processed 40/120 rows\n",
      "   enhanced → processed 50/120 rows\n",
      "   enhanced → processed 60/120 rows\n",
      "   enhanced → processed 70/120 rows\n",
      "   enhanced → processed 80/120 rows\n",
      "   enhanced → processed 90/120 rows\n",
      "   enhanced → processed 100/120 rows\n",
      "   enhanced → processed 110/120 rows\n",
      "   enhanced → processed 120/120 rows\n",
      "Finished enhanced pipeline | Averages: {'faithfulness': 0.8354166666666667, 'answer_relevancy': 0.7706981561337491, 'context_precision': 0.8678124999354726, 'context_recall': 0.7833333333333333}\n"
     ]
    }
   ],
   "source": [
    "metrics = [faithfulness, answer_relevancy, context_precision, context_recall]\n",
    "\n",
    "results = {}\n",
    "\n",
    "for name, cfg in SYSTEMS.items():\n",
    "    print(f\"\\nRunning RAGAS on {name} pipeline...\")\n",
    "\n",
    "    dataset = prepare_ragas_dataset(cfg[\"df\"], cfg[\"gen_col\"], cfg[\"ctx_col\"])\n",
    "\n",
    "    results_accum = {m.name: [] for m in metrics}\n",
    "\n",
    "    # Run row-by-row to allow custom logging\n",
    "    for i in range(len(dataset)):\n",
    "        row_ds = dataset.select([i])  # select a single row\n",
    "        scores = evaluate(\n",
    "            row_ds,\n",
    "            metrics,\n",
    "            batch_size=1,      # force single-row evaluation\n",
    "            show_progress=False\n",
    "        )\n",
    "\n",
    "        # Collect scores for each metric\n",
    "        for m in metrics:\n",
    "            results_accum[m.name].append(scores[m.name])\n",
    "\n",
    "        # Log progress every 10 rows (and at the very end)\n",
    "        if (i + 1) % 10 == 0 or (i + 1) == len(dataset):\n",
    "            print(f\"   {name} → processed {i+1}/{len(dataset)} rows\")\n",
    "\n",
    "    # Compute average score per metric\n",
    "    avg_scores = {}\n",
    "    for m, vals in results_accum.items():\n",
    "        flat_vals = []\n",
    "        for v in vals:\n",
    "            if isinstance(v, list):   # e.g. [0.82]\n",
    "                flat_vals.extend(v)\n",
    "            else:\n",
    "                flat_vals.append(v)\n",
    "        avg_scores[m] = sum(flat_vals) / len(flat_vals) if flat_vals else None\n",
    "    \n",
    "    results[name] = avg_scores\n",
    "    print(f\"Finished {name} pipeline | Averages: {avg_scores}\")"
   ]
  },
  {
   "cell_type": "code",
   "execution_count": 8,
   "id": "e5978934-1693-4e7f-ad15-1474cba72102",
   "metadata": {},
   "outputs": [
    {
     "name": "stdout",
     "output_type": "stream",
     "text": [
      "RAGAs results saved to ../results/ragas_eval_results.json\n",
      "{\n",
      "  \"naive\": {\n",
      "    \"faithfulness\": 0.6976388888888889,\n",
      "    \"answer_relevancy\": 0.7473360854279245,\n",
      "    \"context_precision\": 0.7083333332625,\n",
      "    \"context_recall\": 0.5833333333333334\n",
      "  },\n",
      "  \"best_baseline\": {\n",
      "    \"faithfulness\": 0.81875,\n",
      "    \"answer_relevancy\": 0.7305946047978084,\n",
      "    \"context_precision\": 0.7300347221667872,\n",
      "    \"context_recall\": 0.7666666666666667\n",
      "  },\n",
      "  \"enhanced\": {\n",
      "    \"faithfulness\": 0.8354166666666667,\n",
      "    \"answer_relevancy\": 0.7706981561337491,\n",
      "    \"context_precision\": 0.8678124999354726,\n",
      "    \"context_recall\": 0.7833333333333333\n",
      "  }\n",
      "}\n"
     ]
    }
   ],
   "source": [
    "json_path = os.path.join(RESULTS_DIR, \"ragas_eval_results.json\")\n",
    "with open(json_path, \"w\") as f:\n",
    "    json.dump(results, f, indent=4)\n",
    "\n",
    "print(f\"RAGAs results saved to {json_path}\")\n",
    "print(json.dumps(results, indent=2))"
   ]
  }
 ],
 "metadata": {
  "kernelspec": {
   "display_name": "Python [conda env:base] *",
   "language": "python",
   "name": "conda-base-py"
  },
  "language_info": {
   "codemirror_mode": {
    "name": "ipython",
    "version": 3
   },
   "file_extension": ".py",
   "mimetype": "text/x-python",
   "name": "python",
   "nbconvert_exporter": "python",
   "pygments_lexer": "ipython3",
   "version": "3.12.2"
  }
 },
 "nbformat": 4,
 "nbformat_minor": 5
}
